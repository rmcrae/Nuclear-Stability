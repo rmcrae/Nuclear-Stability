{
 "cells": [
  {
   "cell_type": "code",
   "execution_count": null,
   "metadata": {},
   "outputs": [],
   "source": [
    "%matplotlib notebook\n",
    "from pylab import *\n",
    "from IPython.display import display, Latex\n",
    "import ipywidgets as widgets"
   ]
  },
  {
   "cell_type": "code",
   "execution_count": 357,
   "metadata": {},
   "outputs": [],
   "source": [
    "flines = open('nuclide masses.txt', 'r', encoding='windows-1250').readlines()"
   ]
  },
  {
   "cell_type": "code",
   "execution_count": null,
   "metadata": {},
   "outputs": [],
   "source": [
    "# find lines starting a new element\n",
    "elines = []\n",
    "for n, line in enumerate(flines):\n",
    "    words = line.split('\\t')\n",
    "    if words[0].isdigit():\n",
    "        elines.append(n)"
   ]
  },
  {
   "cell_type": "code",
   "execution_count": null,
   "metadata": {},
   "outputs": [],
   "source": [
    "def extractFloat(sVal):\n",
    "    '''utility function to remove \"(\" from \n",
    "       floating point numbers, if present'''\n",
    "    if len(sVal)>0:\n",
    "        try:\n",
    "            ind = sVal.index('(')\n",
    "            sVal = sVal[:ind]\n",
    "        except ValueError:\n",
    "            pass\n",
    "        return float(sVal)\n",
    "    else:\n",
    "        return \"\"\n",
    "\n",
    "def extractElement(start = 8, end = 15):\n",
    "    '''Grab data for element with starting line and ending line'''\n",
    "    words = flines[start].split('\\t')\n",
    "    Z = int(words[0])\n",
    "    A = [ int(words[2]) ]\n",
    "    m = [ extractFloat(words[3])]\n",
    "    if Z < 3:\n",
    "        abundance = [ extractFloat(words[4]) ]\n",
    "    else:\n",
    "        abundance = [ '' ]\n",
    "    symbol = words[1]\n",
    "    for line in flines[start+1: end-1]:\n",
    "        words = line.split('\\t')\n",
    "        A.append(int(words[1]))\n",
    "        m.append(extractFloat(words[2]))\n",
    "        abund = '' if Z >= 83 else extractFloat(words[3])\n",
    "        abundance.append(abund)\n",
    "        \n",
    "    return Z, symbol, A, m, abundance\n"
   ]
  },
  {
   "cell_type": "code",
   "execution_count": null,
   "metadata": {},
   "outputs": [],
   "source": [
    "# This cell generates the dictionary of nuclides\n",
    "nuclides = {}\n",
    "for start, end  in list(zip(elines, elines[1:])):\n",
    "    Z, symbol, A, m, abundance = extractElement(start, end)\n",
    "    nuclides[symbol] = {}\n",
    "    ns = nuclides[symbol]\n",
    "    ns['Z'] = Z\n",
    "    ns['A'] = A\n",
    "    ns['m'] = m\n",
    "    ns['abundance'] = abundance\n",
    "    \n",
    "    \n",
    "    \n",
    "    "
   ]
  },
  {
   "cell_type": "code",
   "execution_count": null,
   "metadata": {},
   "outputs": [],
   "source": [
    "# Create some widgets:\n",
    "drop_layout = widgets.Layout(width = '75px')\n",
    "check_layout = widgets.Layout(width = '200px')\n",
    "label = widgets.HTML(value =\"<font color=blue><b>Select Element:   </b></font>\" )\n",
    "options = [\"None\"] + list(nuclides.keys())\n",
    "drop_element = widgets.Dropdown(options = options, \n",
    "                               layout = drop_layout)\n",
    "check1 = widgets.Checkbox(value=False, description = \"Show 1:1 line\", layout = check_layout)\n",
    "check2 = widgets.Checkbox(value=False, description = \"Show 2:1 line\", layout = check_layout)"
   ]
  },
  {
   "cell_type": "code",
   "execution_count": null,
   "metadata": {
    "scrolled": false
   },
   "outputs": [],
   "source": [
    "# define plotting function and arrange widgets\n",
    "fig = figure(\"Nuclear Stability\")\n",
    "outbox = widgets.Output(layout = {'border': '1px solid blcak'})\n",
    "display(outbox)\n",
    "\n",
    "def plotNuc(zz = -1, show1 = False, show2 = False):\n",
    "    '''zz gives Z for putting red borders on dots,\n",
    "       show1: determines whether to show 1:1 line,\n",
    "       show2:  determines whether to show 2:1 line'''\n",
    "    ax = fig.gca()\n",
    "    ax.cla()\n",
    "    for v in nuclides.values():\n",
    "        Z = v['Z']\n",
    "        a = array(v['A'])\n",
    "        z = array([Z]*len(a))\n",
    "        n = a-z\n",
    "        not_stable = array(v['abundance']) == ''\n",
    "        #edge = 'red' if Z==20 else 'cyan'\n",
    "        edge = 'cyan'\n",
    "        scatter(z[not_stable], n[not_stable], color=edge, facecolor='none', alpha = 0.5, s=20)\n",
    "\n",
    "    for v in nuclides.values():\n",
    "        Z = v['Z']\n",
    "        a = array(v['A'])\n",
    "        z = array([Z]*len(a))\n",
    "        n = a-z\n",
    "        is_stable = array(v['abundance']) != ''\n",
    "        colors = where(is_stable, '#000000', '#00FFFF')\n",
    "        size = where(is_stable, 50, 30)\n",
    "        edge = 'red' if Z==zz else 'black'\n",
    "        # stable:\n",
    "        scatter(z[is_stable], n[is_stable], color='black', edgecolor=edge, s = 50)\n",
    "    \n",
    "    if show1:\n",
    "        plot([0,120], [0, 120], 'g-')\n",
    "    if show2:\n",
    "        plot([0,85], [0, 175], 'b-')\n",
    "    grid()\n",
    "    title(\"Belt of Stability\")\n",
    "    xlabel('Z')\n",
    "    ylabel('# neutrons');\n",
    "    \n",
    "plotNuc()\n",
    "\n",
    "def select_data(change):\n",
    "    outbox.clear_output(wait=True)\n",
    "    plotNuc(zz = drop_element.index - 1, show1 = check1.value, show2 = check2.value)\n",
    "    element = drop_element.value\n",
    "    if element != \"None\":\n",
    "        ne = nuclides[element]\n",
    "        is_stable = array(ne['abundance']) != ''\n",
    "        Alist = [a for a in ne['A']*is_stable if a]\n",
    "        sForm = r\"$^{%s}{%s},\\:$ \" % (\"%d\", element)\n",
    "        sList = sForm * (len(Alist)-1) + sForm[:-5] + '$'  # end without comma\n",
    "        sList = sList % tuple(Alist)\n",
    "        output = \"Stable Isotopes of %s:  %s\" % (drop_element.value, sList)\n",
    "        with outbox:\n",
    "            display(Latex(output))\n",
    "    else:\n",
    "        outbox.clear_output()\n",
    "    \n",
    "drop_element.observe(select_data, names='value')\n",
    "check1.observe(select_data, names = 'value')\n",
    "check2.observe(select_data, names = 'value')\n",
    "\n",
    "widgets.HBox([label, drop_element, check1, check2])\n"
   ]
  },
  {
   "cell_type": "code",
   "execution_count": null,
   "metadata": {},
   "outputs": [],
   "source": [
    "%%html\n",
    "<style>\n",
    "div.input{\n",
    "    display:none;\n",
    "}\n",
    "</style>"
   ]
  },
  {
   "cell_type": "code",
   "execution_count": 356,
   "metadata": {},
   "outputs": [
    {
     "name": "stdout",
     "output_type": "stream",
     "text": [
      "got unicode error with utf-8 , trying different encoding\n",
      "opening the file with encoding:  windows-1250 \n"
     ]
    }
   ],
   "source": [
    "import codecs\n",
    "encodings = ['utf-8', 'windows-1250', 'windows-1252'] # add more\n",
    "for e in encodings:\n",
    "    try:\n",
    "        fh = codecs.open('nuclide masses.txt', 'r', encoding=e)\n",
    "        fh.readlines()\n",
    "        fh.seek(0)\n",
    "    except UnicodeDecodeError:\n",
    "        print('got unicode error with %s , trying different encoding' % e)\n",
    "    else:\n",
    "        print('opening the file with encoding:  %s ' % e)\n",
    "        break          "
   ]
  },
  {
   "cell_type": "code",
   "execution_count": null,
   "metadata": {},
   "outputs": [],
   "source": []
  }
 ],
 "metadata": {
  "kernelspec": {
   "display_name": "Python 3",
   "language": "python",
   "name": "python3"
  },
  "language_info": {
   "codemirror_mode": {
    "name": "ipython",
    "version": 3
   },
   "file_extension": ".py",
   "mimetype": "text/x-python",
   "name": "python",
   "nbconvert_exporter": "python",
   "pygments_lexer": "ipython3",
   "version": "3.7.4"
  }
 },
 "nbformat": 4,
 "nbformat_minor": 2
}
